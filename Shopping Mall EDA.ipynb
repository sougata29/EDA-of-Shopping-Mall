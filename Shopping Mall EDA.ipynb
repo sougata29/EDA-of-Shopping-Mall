{
 "cells": [
  {
   "cell_type": "markdown",
   "id": "f793d034",
   "metadata": {},
   "source": [
    " "
   ]
  },
  {
   "cell_type": "markdown",
   "id": "c9ebbab0",
   "metadata": {},
   "source": [
    "# Content\n",
    "You are owing a supermarket mall and through membership cards , you have some basic data about your customers like Customer ID, age, gender, annual income and spending score.\n",
    "\n",
    "Spending Score is something you assign to the customer based on your defined parameters like customer behavior and purchasing data."
   ]
  },
  {
   "cell_type": "markdown",
   "id": "f523188b",
   "metadata": {},
   "source": [
    "                                "
   ]
  },
  {
   "cell_type": "markdown",
   "id": "72fa7f3a",
   "metadata": {},
   "source": [
    "# Problem Statement\n",
    "You own the mall and want to understand the customers like who can be easily converge [Target Customers] so that the sense can be given to marketing team and plan the strategy accordingly.\n"
   ]
  },
  {
   "cell_type": "markdown",
   "id": "800b7fb2",
   "metadata": {},
   "source": [
    "     "
   ]
  },
  {
   "cell_type": "code",
   "execution_count": 1,
   "id": "ef4247df",
   "metadata": {},
   "outputs": [],
   "source": [
    "import pandas as pd\n",
    "import matplotlib.pyplot as plt\n",
    "import seaborn as sns"
   ]
  },
  {
   "cell_type": "markdown",
   "id": "94f34144",
   "metadata": {},
   "source": [
    "# 1. Importing the CSV file"
   ]
  },
  {
   "cell_type": "code",
   "execution_count": 2,
   "id": "29b6023f",
   "metadata": {},
   "outputs": [],
   "source": [
    "df = pd.read_csv('Mall_Customers.csv')"
   ]
  },
  {
   "cell_type": "code",
   "execution_count": 3,
   "id": "1a5c78db",
   "metadata": {},
   "outputs": [
    {
     "data": {
      "text/html": [
       "<div>\n",
       "<style scoped>\n",
       "    .dataframe tbody tr th:only-of-type {\n",
       "        vertical-align: middle;\n",
       "    }\n",
       "\n",
       "    .dataframe tbody tr th {\n",
       "        vertical-align: top;\n",
       "    }\n",
       "\n",
       "    .dataframe thead th {\n",
       "        text-align: right;\n",
       "    }\n",
       "</style>\n",
       "<table border=\"1\" class=\"dataframe\">\n",
       "  <thead>\n",
       "    <tr style=\"text-align: right;\">\n",
       "      <th></th>\n",
       "      <th>CustomerID</th>\n",
       "      <th>Genre</th>\n",
       "      <th>Age</th>\n",
       "      <th>Annual Income (k$)</th>\n",
       "      <th>Spending Score (1-100)</th>\n",
       "    </tr>\n",
       "  </thead>\n",
       "  <tbody>\n",
       "    <tr>\n",
       "      <th>0</th>\n",
       "      <td>1</td>\n",
       "      <td>Male</td>\n",
       "      <td>19</td>\n",
       "      <td>15</td>\n",
       "      <td>39</td>\n",
       "    </tr>\n",
       "    <tr>\n",
       "      <th>1</th>\n",
       "      <td>2</td>\n",
       "      <td>Male</td>\n",
       "      <td>21</td>\n",
       "      <td>15</td>\n",
       "      <td>81</td>\n",
       "    </tr>\n",
       "    <tr>\n",
       "      <th>2</th>\n",
       "      <td>3</td>\n",
       "      <td>Female</td>\n",
       "      <td>20</td>\n",
       "      <td>16</td>\n",
       "      <td>6</td>\n",
       "    </tr>\n",
       "    <tr>\n",
       "      <th>3</th>\n",
       "      <td>4</td>\n",
       "      <td>Female</td>\n",
       "      <td>23</td>\n",
       "      <td>16</td>\n",
       "      <td>77</td>\n",
       "    </tr>\n",
       "    <tr>\n",
       "      <th>4</th>\n",
       "      <td>5</td>\n",
       "      <td>Female</td>\n",
       "      <td>31</td>\n",
       "      <td>17</td>\n",
       "      <td>40</td>\n",
       "    </tr>\n",
       "  </tbody>\n",
       "</table>\n",
       "</div>"
      ],
      "text/plain": [
       "   CustomerID   Genre  Age  Annual Income (k$)  Spending Score (1-100)\n",
       "0           1    Male   19                  15                      39\n",
       "1           2    Male   21                  15                      81\n",
       "2           3  Female   20                  16                       6\n",
       "3           4  Female   23                  16                      77\n",
       "4           5  Female   31                  17                      40"
      ]
     },
     "execution_count": 3,
     "metadata": {},
     "output_type": "execute_result"
    }
   ],
   "source": [
    "df.head()"
   ]
  },
  {
   "cell_type": "code",
   "execution_count": 8,
   "id": "4a67b2d8",
   "metadata": {},
   "outputs": [
    {
     "data": {
      "text/plain": [
       "(200, 5)"
      ]
     },
     "execution_count": 8,
     "metadata": {},
     "output_type": "execute_result"
    }
   ],
   "source": [
    "df.shape"
   ]
  },
  {
   "cell_type": "code",
   "execution_count": 43,
   "id": "3873ec9e",
   "metadata": {},
   "outputs": [
    {
     "name": "stdout",
     "output_type": "stream",
     "text": [
      "<class 'pandas.core.frame.DataFrame'>\n",
      "RangeIndex: 200 entries, 0 to 199\n",
      "Data columns (total 5 columns):\n",
      " #   Column                  Non-Null Count  Dtype \n",
      "---  ------                  --------------  ----- \n",
      " 0   CustomerID              200 non-null    int64 \n",
      " 1   Genre                   200 non-null    object\n",
      " 2   Age                     200 non-null    int64 \n",
      " 3   Annual Income (k$)      200 non-null    int64 \n",
      " 4   Spending Score (1-100)  200 non-null    int64 \n",
      "dtypes: int64(4), object(1)\n",
      "memory usage: 7.9+ KB\n"
     ]
    }
   ],
   "source": [
    "df.info()"
   ]
  },
  {
   "cell_type": "markdown",
   "id": "82976ed8",
   "metadata": {},
   "source": [
    "# 2. Checking for Null Values"
   ]
  },
  {
   "cell_type": "code",
   "execution_count": 4,
   "id": "b440e04a",
   "metadata": {
    "scrolled": true
   },
   "outputs": [
    {
     "data": {
      "text/plain": [
       "CustomerID                0\n",
       "Genre                     0\n",
       "Age                       0\n",
       "Annual Income (k$)        0\n",
       "Spending Score (1-100)    0\n",
       "dtype: int64"
      ]
     },
     "execution_count": 4,
     "metadata": {},
     "output_type": "execute_result"
    }
   ],
   "source": [
    "df.isna().sum()"
   ]
  },
  {
   "cell_type": "markdown",
   "id": "1a917e2c",
   "metadata": {},
   "source": [
    "So there are no null values"
   ]
  },
  {
   "cell_type": "markdown",
   "id": "de550236",
   "metadata": {},
   "source": [
    "# 3. Determining the gender of the customers"
   ]
  },
  {
   "cell_type": "code",
   "execution_count": 37,
   "id": "f50c11a4",
   "metadata": {},
   "outputs": [
    {
     "data": {
      "text/plain": [
       "<AxesSubplot:xlabel='count', ylabel='Genre'>"
      ]
     },
     "execution_count": 37,
     "metadata": {},
     "output_type": "execute_result"
    },
    {
     "data": {
      "image/png": "[encoded data removed]",
      "text/plain": [
       "<Figure size 720x360 with 1 Axes>"
      ]
     },
     "metadata": {
      "needs_background": "light"
     },
     "output_type": "display_data"
    }
   ],
   "source": [
    "plt.figure(figsize=[10,5])\n",
    "sns.countplot(y = df.Genre)"
   ]
  },
  {
   "cell_type": "markdown",
   "id": "a968fea7",
   "metadata": {},
   "source": [
    "So majority of the mall customers are Females"
   ]
  },
  {
   "cell_type": "markdown",
   "id": "7c09e7f6",
   "metadata": {},
   "source": [
    "# 4. Distribution of Numerical columns"
   ]
  },
  {
   "cell_type": "code",
   "execution_count": 63,
   "id": "5ffc3f30",
   "metadata": {},
   "outputs": [
    {
     "name": "stderr",
     "output_type": "stream",
     "text": [
      "C:\\Users\\SOUGATA\\AppData\\Local\\Programs\\Python\\Python310\\lib\\site-packages\\seaborn\\distributions.py:2619: FutureWarning: `distplot` is a deprecated function and will be removed in a future version. Please adapt your code to use either `displot` (a figure-level function with similar flexibility) or `histplot` (an axes-level function for histograms).\n",
      "  warnings.warn(msg, FutureWarning)\n",
      "C:\\Users\\SOUGATA\\AppData\\Local\\Programs\\Python\\Python310\\lib\\site-packages\\seaborn\\distributions.py:2619: FutureWarning: `distplot` is a deprecated function and will be removed in a future version. Please adapt your code to use either `displot` (a figure-level function with similar flexibility) or `histplot` (an axes-level function for histograms).\n",
      "  warnings.warn(msg, FutureWarning)\n",
      "C:\\Users\\SOUGATA\\AppData\\Local\\Programs\\Python\\Python310\\lib\\site-packages\\seaborn\\distributions.py:2619: FutureWarning: `distplot` is a deprecated function and will be removed in a future version. Please adapt your code to use either `displot` (a figure-level function with similar flexibility) or `histplot` (an axes-level function for histograms).\n",
      "  warnings.warn(msg, FutureWarning)\n"
     ]
    },
    {
     "data": {
      "image/png": "[encoded data removed]",
      "text/plain": [
       "<Figure size 1080x432 with 3 Axes>"
      ]
     },
     "metadata": {
      "needs_background": "light"
     },
     "output_type": "display_data"
    }
   ],
   "source": [
    "n= 0\n",
    "plt.figure(1, figsize=(15,6))\n",
    "for x in ['Age', 'Annual Income (k$)', 'Spending Score (1-100)']:\n",
    "    n = n + 1\n",
    "    plt.subplot(1,3,n)\n",
    "    plt.subplots_adjust(hspace=0.5,wspace=0.5)\n",
    "    sns.distplot(df[x], bins = 20)"
   ]
  },
  {
   "cell_type": "markdown",
   "id": "0bd0df6e",
   "metadata": {},
   "source": [
    "# 5. Analysis of the Age column"
   ]
  },
  {
   "cell_type": "code",
   "execution_count": 24,
   "id": "68312642",
   "metadata": {},
   "outputs": [],
   "source": [
    "Agebelow20 = df.Age[(df.Age<=20)]\n",
    "Age21to40 = df.Age[(df.Age>20) & (df.Age<=40)]\n",
    "Age41to60 = df.Age[(df.Age>40) & (df.Age<=60)]\n",
    "Ageabove60 = df.Age[(df.Age>60)]"
   ]
  },
  {
   "cell_type": "code",
   "execution_count": 52,
   "id": "7db148b9",
   "metadata": {},
   "outputs": [
    {
     "data": {
      "text/plain": [
       "<AxesSubplot:>"
      ]
     },
     "execution_count": 52,
     "metadata": {},
     "output_type": "execute_result"
    },
    {
     "data": {
      "image/png": "[encoded data removed]",
      "text/plain": [
       "<Figure size 720x432 with 1 Axes>"
      ]
     },
     "metadata": {
      "needs_background": "light"
     },
     "output_type": "display_data"
    }
   ],
   "source": [
    "Agex = ['Below 20', '21 to 40', '41 to 60', 'Above 60']\n",
    "Agey = [len(Agebelow20), len(Age21to40), len(Age41to60), len(Ageabove60)]\n",
    "plt.figure(figsize = [10,6])\n",
    "sns.barplot(x = Agex, y = Agey, palette='mako')"
   ]
  },
  {
   "cell_type": "markdown",
   "id": "6efdedd1",
   "metadata": {},
   "source": [
    "So majority of the customers are in the age group of 21 to 40"
   ]
  },
  {
   "cell_type": "markdown",
   "id": "b6675532",
   "metadata": {},
   "source": [
    "# 6. Analysis of the Annual Income column"
   ]
  },
  {
   "cell_type": "code",
   "execution_count": 33,
   "id": "34d7cc42",
   "metadata": {},
   "outputs": [],
   "source": [
    "Incomebelow30 = df['Annual Income (k$)'][(df['Annual Income (k$)']<30)]\n",
    "Income30to60 = df['Annual Income (k$)'][(df['Annual Income (k$)']>=30) & (df['Annual Income (k$)']<=60)]\n",
    "Income61to90 = df['Annual Income (k$)'][(df['Annual Income (k$)']>60) & (df['Annual Income (k$)']<=90)]\n",
    "Incomeabove90 = df['Annual Income (k$)'][(df['Annual Income (k$)']>90)]"
   ]
  },
  {
   "cell_type": "code",
   "execution_count": 51,
   "id": "839585ce",
   "metadata": {},
   "outputs": [
    {
     "data": {
      "text/plain": [
       "<AxesSubplot:>"
      ]
     },
     "execution_count": 51,
     "metadata": {},
     "output_type": "execute_result"
    },
    {
     "data": {
      "image/png": "[encoded data removed]",
      "text/plain": [
       "<Figure size 720x432 with 1 Axes>"
      ]
     },
     "metadata": {
      "needs_background": "light"
     },
     "output_type": "display_data"
    }
   ],
   "source": [
    "Incomex = ['Below 30', '30 to 60', '61 to 90', 'Above 90']\n",
    "Incomey = [len(Incomebelow30), len(Income30to60), len(Income61to90), len(Incomeabove90)]\n",
    "plt.figure(figsize = [10,6])\n",
    "sns.barplot(x = Incomex, y = Incomey, palette='rocket')"
   ]
  },
  {
   "cell_type": "markdown",
   "id": "60f589bd",
   "metadata": {},
   "source": [
    "So majority of the customers have an annual income of 61 to 90k$"
   ]
  },
  {
   "cell_type": "markdown",
   "id": "a26afd59",
   "metadata": {},
   "source": [
    "# 7. Analysis of the Spending Score column"
   ]
  },
  {
   "cell_type": "code",
   "execution_count": 38,
   "id": "706b0e60",
   "metadata": {},
   "outputs": [],
   "source": [
    "spendbelow30 = df['Spending Score (1-100)'][(df['Spending Score (1-100)']<30)]\n",
    "spend30to60 = df['Spending Score (1-100)'][(df['Spending Score (1-100)']>=30) & (df['Spending Score (1-100)']<=60)]\n",
    "spendabove60 = df['Spending Score (1-100)'][(df['Spending Score (1-100)']>60)]"
   ]
  },
  {
   "cell_type": "code",
   "execution_count": 57,
   "id": "c2813e73",
   "metadata": {},
   "outputs": [
    {
     "data": {
      "text/plain": [
       "<AxesSubplot:>"
      ]
     },
     "execution_count": 57,
     "metadata": {},
     "output_type": "execute_result"
    },
    {
     "data": {
      "image/png": "[encoded data removed]",
      "text/plain": [
       "<Figure size 720x432 with 1 Axes>"
      ]
     },
     "metadata": {
      "needs_background": "light"
     },
     "output_type": "display_data"
    }
   ],
   "source": [
    "spendx = ['Below 30', '30 to 60', 'Above 60']\n",
    "spendy = [len(spendbelow30), len(spend30to60), len(spendabove60)]\n",
    "plt.figure(figsize = [10,6])\n",
    "sns.barplot(x = spendx, y = spendy, palette='Set2')"
   ]
  },
  {
   "cell_type": "markdown",
   "id": "ee89fc14",
   "metadata": {},
   "source": [
    "So the majority of the customers have the spending score is in the range of 30 to 60"
   ]
  },
  {
   "cell_type": "markdown",
   "id": "55a825c6",
   "metadata": {},
   "source": [
    "# 8. Gender vs Spending Score"
   ]
  },
  {
   "cell_type": "code",
   "execution_count": 59,
   "id": "0fde6618",
   "metadata": {},
   "outputs": [
    {
     "data": {
      "text/plain": [
       "<AxesSubplot:xlabel='Genre', ylabel='Spending Score (1-100)'>"
      ]
     },
     "execution_count": 59,
     "metadata": {},
     "output_type": "execute_result"
    },
    {
     "data": {
      "image/png": "[encoded data removed]",
      "text/plain": [
       "<Figure size 432x288 with 1 Axes>"
      ]
     },
     "metadata": {
      "needs_background": "light"
     },
     "output_type": "display_data"
    }
   ],
   "source": [
    "sns.barplot(x = df.Genre, y = df['Spending Score (1-100)'], palette='Paired')"
   ]
  },
  {
   "cell_type": "markdown",
   "id": "eaa7855b",
   "metadata": {},
   "source": [
    "Female customers spend a little bit more than male customers"
   ]
  },
  {
   "cell_type": "markdown",
   "id": "b6d4fc77",
   "metadata": {},
   "source": [
    "# 9. Annual Income vs Spending Score"
   ]
  },
  {
   "cell_type": "code",
   "execution_count": 62,
   "id": "bd2a7e22",
   "metadata": {},
   "outputs": [
    {
     "data": {
      "text/plain": [
       "Text(0, 0.5, 'Spending Score (1-100)')"
      ]
     },
     "execution_count": 62,
     "metadata": {},
     "output_type": "execute_result"
    },
    {
     "data": {
      "image/png": "[encoded data removed]",
      "text/plain": [
       "<Figure size 864x576 with 1 Axes>"
      ]
     },
     "metadata": {
      "needs_background": "light"
     },
     "output_type": "display_data"
    }
   ],
   "source": [
    "plt.figure(figsize = [12,8])\n",
    "plt.scatter(x = df['Annual Income (k$)'], y = df['Spending Score (1-100)'], color = 'red')\n",
    "plt.xlabel('Annual Income (k$)')\n",
    "plt.ylabel('Spending Score (1-100)')"
   ]
  },
  {
   "cell_type": "markdown",
   "id": "6dc6942b",
   "metadata": {},
   "source": [
    "So we can observe that it is not necessary for a person who's annual income is higher should have a high spending score"
   ]
  },
  {
   "cell_type": "code",
   "execution_count": null,
   "id": "3173f1be",
   "metadata": {},
   "outputs": [],
   "source": []
  }
 ],
 "metadata": {
  "kernelspec": {
   "display_name": "Python 3 (ipykernel)",
   "language": "python",
   "name": "python3"
  },
  "language_info": {
   "codemirror_mode": {
    "name": "ipython",
    "version": 3
   },
   "file_extension": ".py",
   "mimetype": "text/x-python",
   "name": "python",
   "nbconvert_exporter": "python",
   "pygments_lexer": "ipython3",
   "version": "3.10.2"
  }
 },
 "nbformat": 4,
 "nbformat_minor": 5
}
